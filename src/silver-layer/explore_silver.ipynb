{
 "cells": [
  {
   "cell_type": "code",
   "execution_count": 1,
   "metadata": {},
   "outputs": [],
   "source": [
    "import pandas as pd\n",
    "import json\n",
    "import os\n",
    "from download_blob import get_data"
   ]
  },
  {
   "cell_type": "code",
   "execution_count": 2,
   "metadata": {},
   "outputs": [],
   "source": [
    "LOCAL_FILES_PATH = os.environ.get(\"LOCAL_FILES_PATH\")"
   ]
  },
  {
   "cell_type": "code",
   "execution_count": 3,
   "metadata": {},
   "outputs": [],
   "source": [
    "def tags_dim(df):\n",
    "    tags_colums = ['ResourceId', 'tags']\n",
    "    tags_dim = pd.DataFrame(df,columns=tags_colums, copy=True, index=None)\n",
    "    # tags_dim.index = tags_dim['ResourceId']\n",
    "    tags_dim.columns\n",
    "    return tags_dim"
   ]
  },
  {
   "cell_type": "code",
   "execution_count": 4,
   "metadata": {},
   "outputs": [
    {
     "data": {
      "text/plain": [
       "ResourceId    object\n",
       "tags          object\n",
       "dtype: object"
      ]
     },
     "execution_count": 4,
     "metadata": {},
     "output_type": "execute_result"
    }
   ],
   "source": [
    "df = get_data('cloudlink/azure')\n",
    "df = tags_dim(df)\n",
    "df.dtypes\n"
   ]
  },
  {
   "cell_type": "code",
   "execution_count": 12,
   "metadata": {},
   "outputs": [
    {
     "name": "stdout",
     "output_type": "stream",
     "text": [
      "0      {  \"application\": \"databricks\",  \"databricks-e...\n",
      "1        {  \"environment\": \"dev\",  \"location\": \"norway\"}\n",
      "2        {  \"environment\": \"dev\",  \"location\": \"norway\"}\n",
      "3      {  \"environment\": \"dev\",  \"location\": \"norway\"...\n",
      "4        {  \"environment\": \"dev\",  \"location\": \"norway\"}\n",
      "                             ...                        \n",
      "844      {  \"environment\": \"dev\",  \"location\": \"norway\"}\n",
      "845      {  \"environment\": \"dev\",  \"location\": \"norway\"}\n",
      "846      {  \"environment\": \"dev\",  \"location\": \"norway\"}\n",
      "847    {  \"environment\": \"dev\",  \"location\": \"norway\"...\n",
      "848    {  \"environment\": \"dev\",  \"location\": \"norway\"...\n",
      "Name: tags, Length: 6148, dtype: object\n"
     ]
    }
   ],
   "source": [
    "tags_list = df.iloc[:,1]\n"
   ]
  }
 ],
 "metadata": {
  "kernelspec": {
   "display_name": "Python 3.8.10 64-bit",
   "language": "python",
   "name": "python3"
  },
  "language_info": {
   "codemirror_mode": {
    "name": "ipython",
    "version": 3
   },
   "file_extension": ".py",
   "mimetype": "text/x-python",
   "name": "python",
   "nbconvert_exporter": "python",
   "pygments_lexer": "ipython3",
   "version": "3.8.10"
  },
  "orig_nbformat": 4,
  "vscode": {
   "interpreter": {
    "hash": "916dbcbb3f70747c44a77c7bcd40155683ae19c65e1c03b4aa3499c5328201f1"
   }
  }
 },
 "nbformat": 4,
 "nbformat_minor": 2
}
