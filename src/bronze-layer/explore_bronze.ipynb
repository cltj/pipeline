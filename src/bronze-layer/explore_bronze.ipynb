{
 "cells": [
  {
   "cell_type": "markdown",
   "metadata": {},
   "source": [
    "# Exploring the billing datasets\n",
    "\n",
    "```Do not run in poetry shell```\n",
    "\n",
    "NOT TESTED AFTER REMAKE OF BRONZE"
   ]
  },
  {
   "cell_type": "code",
   "execution_count": 1,
   "metadata": {},
   "outputs": [],
   "source": [
    "# Imports\n",
    "import os\n",
    "from matplotlib import pyplot as plt\n",
    "import seaborn as sns\n",
    "import numpy as np\n",
    "import pandas as pd"
   ]
  },
  {
   "cell_type": "code",
   "execution_count": 2,
   "metadata": {},
   "outputs": [],
   "source": [
    "# Set variables\n",
    "CONNECTION_STRING = os.environ.get(\"STORAGE_CONNECTION_STRING\")\n",
    "CONTAINERNAME = os.environ.get(\"STORAGE_CONTAINER_NAME_1\")\n",
    "BLOBNAME = os.environ.get(\"STORAGE_BLOB_NAME\")"
   ]
  },
  {
   "cell_type": "code",
   "execution_count": 3,
   "metadata": {},
   "outputs": [],
   "source": [
    "def create_sas():\n",
    "    CONTAINERNAME = os.environ.get(\"STORAGE_CONTAINER_NAME_1\")\n",
    "    BLOBNAME = os.environ.get(\"STORAGE_BLOB_NAME\")\n",
    "    ACCOUNTNAME = os.environ.get(\"STORAGE_ACCOUNT_NAME\")\n",
    "    QUERYSTRING = os.environ.get(\"BLOB_QUERY_STRING\")\n",
    "    \n",
    "    sas_url = f\"https://{ACCOUNTNAME}.blob.core.windows.net/{CONTAINERNAME}/cloudlink/azure/{BLOBNAME}{QUERYSTRING}\"\n",
    "    return sas_url\n",
    " \n",
    "    \n",
    "sas_url = create_sas()"
   ]
  },
  {
   "cell_type": "code",
   "execution_count": 4,
   "metadata": {},
   "outputs": [
    {
     "name": "stdout",
     "output_type": "stream",
     "text": [
      "Rows: 6148 \n",
      "Columns: 65\n",
      "Index(['invoiceId', 'previousInvoiceId', 'billingAccountId',\n",
      "       'billingAccountName', 'billingProfileId', 'billingProfileName',\n",
      "       'invoiceSectionId', 'invoiceSectionName', 'resellerName',\n",
      "       'resellerMpnId', 'costCenter', 'billingPeriodEndDate',\n",
      "       'billingPeriodStartDate', 'servicePeriodEndDate',\n",
      "       'servicePeriodStartDate', 'date', 'serviceFamily', 'productOrderId',\n",
      "       'productOrderName', 'consumedService', 'meterId', 'meterName',\n",
      "       'meterCategory', 'meterSubCategory', 'meterRegion', 'ProductId',\n",
      "       'ProductName', 'SubscriptionId', 'subscriptionName', 'publisherType',\n",
      "       'publisherId', 'publisherName', 'resourceGroupName', 'ResourceId',\n",
      "       'resourceLocation', 'location', 'effectivePrice', 'quantity',\n",
      "       'unitOfMeasure', 'chargeType', 'billingCurrency', 'pricingCurrency',\n",
      "       'costInBillingCurrency', 'costInPricingCurrency', 'costInUsd',\n",
      "       'paygCostInBillingCurrency', 'paygCostInUsd',\n",
      "       'exchangeRatePricingToBilling', 'exchangeRateDate',\n",
      "       'isAzureCreditEligible', 'serviceInfo1', 'serviceInfo2',\n",
      "       'additionalInfo', 'tags', 'PayGPrice', 'frequency', 'term',\n",
      "       'reservationId', 'reservationName', 'pricingModel', 'unitPrice',\n",
      "       'costAllocationRuleName', 'benefitId', 'benefitName', 'provider'],\n",
      "      dtype='object')\n"
     ]
    }
   ],
   "source": [
    "df = pd.read_parquet(sas_url)\n",
    "df_len, df_width = df.shape\n",
    "print('Rows: ' +str(df_len),'\\nColumns: ' + str(df_width))\n",
    "print(df.columns)"
   ]
  },
  {
   "cell_type": "code",
   "execution_count": 5,
   "metadata": {},
   "outputs": [
    {
     "name": "stdout",
     "output_type": "stream",
     "text": [
      "Removed 23 blank columns!\n"
     ]
    }
   ],
   "source": [
    "# clean az data\n",
    "df = df.replace(r'\\s+',np.nan,regex=True).replace('',np.nan)\n",
    "before = len(df.columns)\n",
    "# Drop all columns where all values is NaN\n",
    "df = df.dropna(axis=1,how='all')\n",
    "after = len(df.columns)\n",
    "removed = before-after\n",
    "print(\"Removed \"+ str(removed) + \" blank columns!\")"
   ]
  },
  {
   "cell_type": "code",
   "execution_count": 6,
   "metadata": {},
   "outputs": [
    {
     "data": {
      "text/plain": [
       "Index(['invoiceId', 'billingAccountId', 'billingProfileId', 'invoiceSectionId',\n",
       "       'servicePeriodEndDate', 'servicePeriodStartDate', 'date',\n",
       "       'serviceFamily', 'productOrderId', 'consumedService', 'meterId',\n",
       "       'meterCategory', 'meterSubCategory', 'meterRegion', 'ProductId',\n",
       "       'SubscriptionId', 'subscriptionName', 'publisherType', 'publisherName',\n",
       "       'resourceGroupName', 'ResourceId', 'resourceLocation', 'location',\n",
       "       'effectivePrice', 'quantity', 'unitOfMeasure', 'chargeType',\n",
       "       'billingCurrency', 'pricingCurrency', 'costInBillingCurrency',\n",
       "       'costInPricingCurrency', 'costInUsd', 'paygCostInBillingCurrency',\n",
       "       'paygCostInUsd', 'exchangeRatePricingToBilling', 'exchangeRateDate',\n",
       "       'isAzureCreditEligible', 'PayGPrice', 'frequency', 'pricingModel',\n",
       "       'unitPrice', 'provider'],\n",
       "      dtype='object')"
      ]
     },
     "execution_count": 6,
     "metadata": {},
     "output_type": "execute_result"
    }
   ],
   "source": [
    "df.columns"
   ]
  },
  {
   "cell_type": "code",
   "execution_count": 7,
   "metadata": {},
   "outputs": [
    {
     "name": "stdout",
     "output_type": "stream",
     "text": [
      "The column 'invoiceId' has 1 unique rows\n",
      "The column 'billingAccountId' has 1 unique rows\n",
      "The column 'billingProfileId' has 2 unique rows\n",
      "The column 'invoiceSectionId' has 2 unique rows\n",
      "The column 'servicePeriodEndDate' has 1 unique rows\n",
      "The column 'servicePeriodStartDate' has 1 unique rows\n",
      "The column 'date' has 19 unique rows\n",
      "The column 'serviceFamily' has 5 unique rows\n",
      "The column 'productOrderId' has 2 unique rows\n",
      "The column 'consumedService' has 7 unique rows\n",
      "The column 'meterId' has 31 unique rows\n",
      "The column 'meterCategory' has 2 unique rows\n",
      "The column 'meterSubCategory' has 2 unique rows\n",
      "The column 'meterRegion' has 2 unique rows\n",
      "The column 'ProductId' has 19 unique rows\n",
      "The column 'SubscriptionId' has 2 unique rows\n",
      "The column 'subscriptionName' has 2 unique rows\n",
      "The column 'publisherType' has 1 unique rows\n",
      "The column 'publisherName' has 1 unique rows\n",
      "The column 'resourceGroupName' has 14 unique rows\n",
      "The column 'ResourceId' has 27 unique rows\n",
      "The column 'resourceLocation' has 4 unique rows\n",
      "The column 'location' has 2 unique rows\n",
      "The column 'effectivePrice' has 40 unique rows\n",
      "The column 'quantity' has 231 unique rows\n",
      "The column 'unitOfMeasure' has 5 unique rows\n",
      "The column 'chargeType' has 1 unique rows\n",
      "The column 'billingCurrency' has 1 unique rows\n",
      "The column 'pricingCurrency' has 1 unique rows\n",
      "The column 'costInBillingCurrency' has 342 unique rows\n",
      "The column 'costInPricingCurrency' has 332 unique rows\n",
      "The column 'costInUsd' has 332 unique rows\n",
      "The column 'paygCostInBillingCurrency' has 314 unique rows\n",
      "The column 'paygCostInUsd' has 313 unique rows\n",
      "The column 'exchangeRatePricingToBilling' has 1 unique rows\n",
      "The column 'exchangeRateDate' has 1 unique rows\n",
      "The column 'isAzureCreditEligible' has 1 unique rows\n",
      "The column 'PayGPrice' has 24 unique rows\n",
      "The column 'frequency' has 1 unique rows\n",
      "The column 'pricingModel' has 1 unique rows\n",
      "The column 'unitPrice' has 20 unique rows\n",
      "The column 'provider' has 1 unique rows\n"
     ]
    }
   ],
   "source": [
    "for column in df:\n",
    "    x = df\n",
    "    x = x[column].drop_duplicates().dropna()\n",
    "    print(\"The column '\" + column + \"' has \" + str(x.shape[0]) + \" unique rows\")"
   ]
  },
  {
   "cell_type": "code",
   "execution_count": 8,
   "metadata": {},
   "outputs": [
    {
     "data": {
      "text/plain": [
       "Index(['SubscriptionId', 'subscriptionName', 'billingAccountId',\n",
       "       'billingAccountName', 'billingProfileId', 'billingProfileName'],\n",
       "      dtype='object')"
      ]
     },
     "execution_count": 8,
     "metadata": {},
     "output_type": "execute_result"
    }
   ],
   "source": [
    "subscription_colums = [\"SubscriptionId\",\"subscriptionName\", \"billingAccountId\", \"billingAccountName\", \"billingProfileId\", \"billingProfileName\"]\n",
    "\n",
    "subscription_dim = pd.DataFrame(df,columns=subscription_colums, copy=True)\n",
    "subscription_dim.index = subscription_dim[\"SubscriptionId\"]\n",
    "subscription_dim.drop_duplicates(\"SubscriptionId\", inplace=True)\n",
    "subscription_dim.columns\n"
   ]
  },
  {
   "cell_type": "code",
   "execution_count": 9,
   "metadata": {},
   "outputs": [
    {
     "data": {
      "text/plain": [
       "Index(['ProductId', 'ProductName', 'resourceLocation', 'meterSubCategory',\n",
       "       'meterCategory'],\n",
       "      dtype='object')"
      ]
     },
     "execution_count": 9,
     "metadata": {},
     "output_type": "execute_result"
    }
   ],
   "source": [
    "product_colums = [\"ProductId\",\"ProductName\", \"resourceLocation\", \"meterSubCategory\", \"meterCategory\"]\n",
    "\n",
    "product_dim = pd.DataFrame(df,columns=product_colums, copy=True)\n",
    "product_dim.index = product_dim[\"ProductId\"]\n",
    "product_dim.drop_duplicates(\"ProductId\", inplace=True)\n",
    "product_dim.columns"
   ]
  },
  {
   "cell_type": "code",
   "execution_count": 10,
   "metadata": {},
   "outputs": [
    {
     "data": {
      "text/plain": [
       "Index(['SubscriptionId', 'resourceGroupName', 'consumedService',\n",
       "       'resourceName'],\n",
       "      dtype='object')"
      ]
     },
     "execution_count": 10,
     "metadata": {},
     "output_type": "execute_result"
    }
   ],
   "source": [
    "resource_dim = pd.DataFrame(df,columns=[\"ResourceId\"], copy=True)\n",
    "resource_dim = resource_dim['ResourceId'].str.split(\"/\", expand=True)\n",
    "resource_dim = resource_dim.loc[:, [2,4,6,8]]\n",
    "resource_dim.columns = ['SubscriptionId', 'resourceGroupName', 'consumedService', 'resourceName']\n",
    "resource_dim.index = resource_dim[\"resourceName\"]\n",
    "resource_dim.drop_duplicates(\"resourceName\", inplace=True)\n",
    "resource_dim.columns"
   ]
  },
  {
   "cell_type": "code",
   "execution_count": 11,
   "metadata": {},
   "outputs": [
    {
     "data": {
      "text/plain": [
       "Index(['ResourceId', 'tags'], dtype='object')"
      ]
     },
     "execution_count": 11,
     "metadata": {},
     "output_type": "execute_result"
    }
   ],
   "source": [
    "tags_colums = ['ResourceId', 'tags']\n",
    "\n",
    "tags_dim = pd.DataFrame(df,columns=tags_colums, copy=True)\n",
    "tags_dim.index = tags_dim['ResourceId']\n",
    "\n",
    "tags_dim.columns"
   ]
  },
  {
   "cell_type": "code",
   "execution_count": 12,
   "metadata": {},
   "outputs": [
    {
     "ename": "TypeError",
     "evalue": "object of type 'float' has no len()",
     "output_type": "error",
     "traceback": [
      "\u001b[0;31m---------------------------------------------------------------------------\u001b[0m",
      "\u001b[0;31mTypeError\u001b[0m                                 Traceback (most recent call last)",
      "\u001b[1;32m/mnt/c/dev/cl/pipeline/src/bronze-layer/explore_bronze.ipynb Cell 13\u001b[0m in \u001b[0;36m<cell line: 16>\u001b[0;34m()\u001b[0m\n\u001b[1;32m     <a href='vscode-notebook-cell://wsl%2Bubuntu/mnt/c/dev/cl/pipeline/src/bronze-layer/explore_bronze.ipynb#X15sdnNjb2RlLXJlbW90ZQ%3D%3D?line=12'>13</a>\u001b[0m             longest_element \u001b[39m=\u001b[39m elem\n\u001b[1;32m     <a href='vscode-notebook-cell://wsl%2Bubuntu/mnt/c/dev/cl/pipeline/src/bronze-layer/explore_bronze.ipynb#X15sdnNjb2RlLXJlbW90ZQ%3D%3D?line=13'>14</a>\u001b[0m     \u001b[39mreturn\u001b[39;00m longest_element\n\u001b[0;32m---> <a href='vscode-notebook-cell://wsl%2Bubuntu/mnt/c/dev/cl/pipeline/src/bronze-layer/explore_bronze.ipynb#X15sdnNjb2RlLXJlbW90ZQ%3D%3D?line=15'>16</a>\u001b[0m longest_tag \u001b[39m=\u001b[39m find_longest()\n\u001b[1;32m     <a href='vscode-notebook-cell://wsl%2Bubuntu/mnt/c/dev/cl/pipeline/src/bronze-layer/explore_bronze.ipynb#X15sdnNjb2RlLXJlbW90ZQ%3D%3D?line=16'>17</a>\u001b[0m \u001b[39mprint\u001b[39m(\u001b[39mlen\u001b[39m(longest_tag), longest_tag)\n",
      "\u001b[1;32m/mnt/c/dev/cl/pipeline/src/bronze-layer/explore_bronze.ipynb Cell 13\u001b[0m in \u001b[0;36mfind_longest\u001b[0;34m()\u001b[0m\n\u001b[1;32m      <a href='vscode-notebook-cell://wsl%2Bubuntu/mnt/c/dev/cl/pipeline/src/bronze-layer/explore_bronze.ipynb#X15sdnNjb2RlLXJlbW90ZQ%3D%3D?line=3'>4</a>\u001b[0m \u001b[39mif\u001b[39;00m elem \u001b[39mis\u001b[39;00m \u001b[39mNone\u001b[39;00m:\n\u001b[1;32m      <a href='vscode-notebook-cell://wsl%2Bubuntu/mnt/c/dev/cl/pipeline/src/bronze-layer/explore_bronze.ipynb#X15sdnNjb2RlLXJlbW90ZQ%3D%3D?line=4'>5</a>\u001b[0m     \u001b[39mcontinue\u001b[39;00m\n\u001b[0;32m----> <a href='vscode-notebook-cell://wsl%2Bubuntu/mnt/c/dev/cl/pipeline/src/bronze-layer/explore_bronze.ipynb#X15sdnNjb2RlLXJlbW90ZQ%3D%3D?line=6'>7</a>\u001b[0m \u001b[39mnext\u001b[39m \u001b[39m=\u001b[39m \u001b[39mlen\u001b[39;49m(elem)\n\u001b[1;32m      <a href='vscode-notebook-cell://wsl%2Bubuntu/mnt/c/dev/cl/pipeline/src/bronze-layer/explore_bronze.ipynb#X15sdnNjb2RlLXJlbW90ZQ%3D%3D?line=7'>8</a>\u001b[0m \u001b[39mif\u001b[39;00m  \u001b[39mnext\u001b[39m \u001b[39m<\u001b[39m\u001b[39m=\u001b[39m longest:\n\u001b[1;32m      <a href='vscode-notebook-cell://wsl%2Bubuntu/mnt/c/dev/cl/pipeline/src/bronze-layer/explore_bronze.ipynb#X15sdnNjb2RlLXJlbW90ZQ%3D%3D?line=8'>9</a>\u001b[0m     \u001b[39mcontinue\u001b[39;00m\n",
      "\u001b[0;31mTypeError\u001b[0m: object of type 'float' has no len()"
     ]
    }
   ],
   "source": [
    "def find_longest():\n",
    "    longest = 0\n",
    "    for elem in tags_dim['tags']:\n",
    "        if elem is None:\n",
    "            continue\n",
    "        \n",
    "        next = len(elem)\n",
    "        if  next <= longest:\n",
    "            continue\n",
    "        \n",
    "        else:\n",
    "            longest = next\n",
    "            longest_element = elem\n",
    "    return longest_element\n",
    "    \n",
    "longest_tag = find_longest()\n",
    "print(len(longest_tag), longest_tag)"
   ]
  },
  {
   "cell_type": "code",
   "execution_count": null,
   "metadata": {},
   "outputs": [],
   "source": [
    "usage_colums = [\"quantity\", \"effectivePrice\", \"paygCostInBillingCurrency\", \"date\", \"ProductId\", \"SubscriptionId\"]\n",
    "\n",
    "usage_fact = pd.DataFrame(df,columns=usage_colums, copy=True)\n",
    "usage_fact.index = usage_fact[\"ProductId\"]\n",
    "usage_fact = usage_fact[usage_fact['effectivePrice'] != 0]\n",
    "usage_fact.columns"
   ]
  }
 ],
 "metadata": {
  "kernelspec": {
   "display_name": "Python 3.8.10 64-bit",
   "language": "python",
   "name": "python3"
  },
  "language_info": {
   "codemirror_mode": {
    "name": "ipython",
    "version": 3
   },
   "file_extension": ".py",
   "mimetype": "text/x-python",
   "name": "python",
   "nbconvert_exporter": "python",
   "pygments_lexer": "ipython3",
   "version": "3.8.10"
  },
  "orig_nbformat": 4,
  "vscode": {
   "interpreter": {
    "hash": "916dbcbb3f70747c44a77c7bcd40155683ae19c65e1c03b4aa3499c5328201f1"
   }
  }
 },
 "nbformat": 4,
 "nbformat_minor": 2
}
