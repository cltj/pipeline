{
 "cells": [
  {
   "cell_type": "markdown",
   "metadata": {},
   "source": [
    "# Exploring the billing datasets\n",
    "\n",
    "```Do not run in poetry shell```\n",
    "\n",
    "NOT TESTED AFTER REMAKE OF BRONZE"
   ]
  },
  {
   "cell_type": "code",
   "execution_count": 39,
   "metadata": {},
   "outputs": [],
   "source": [
    "# Imports\n",
    "import os\n",
    "from matplotlib import pyplot as plt\n",
    "import seaborn as sns\n",
    "import numpy as np\n",
    "import pandas as pd"
   ]
  },
  {
   "cell_type": "code",
   "execution_count": 40,
   "metadata": {},
   "outputs": [],
   "source": [
    "# Set variables\n",
    "CONNECTION_STRING = os.environ.get(\"STORAGE_CONNECTION_STRING\")\n",
    "CONTAINERNAME = os.environ.get(\"STORAGE_CONTAINER_NAME_1\")\n",
    "BLOBNAME = os.environ.get(\"STORAGE_BLOB_NAME\")"
   ]
  },
  {
   "cell_type": "code",
   "execution_count": 41,
   "metadata": {},
   "outputs": [],
   "source": [
    "def create_sas():\n",
    "    CONTAINERNAME = os.environ.get(\"STORAGE_CONTAINER_NAME_1\")\n",
    "    BLOBNAME = os.environ.get(\"STORAGE_BLOB_NAME\")\n",
    "    ACCOUNTNAME = os.environ.get(\"STORAGE_ACCOUNT_NAME\")\n",
    "    QUERYSTRING = os.environ.get(\"BLOB_QUERY_STRING\")\n",
    "    \n",
    "    sas_url = f\"https://{ACCOUNTNAME}.blob.core.windows.net/{CONTAINERNAME}/cloudlink/azure/{BLOBNAME}{QUERYSTRING}\"\n",
    "    return sas_url\n",
    " \n",
    "    \n",
    "sas_url = create_sas()"
   ]
  },
  {
   "cell_type": "code",
   "execution_count": 42,
   "metadata": {},
   "outputs": [
    {
     "name": "stdout",
     "output_type": "stream",
     "text": [
      "Rows: 1755 \n",
      "Columns: 65\n",
      "Index(['invoiceId', 'previousInvoiceId', 'billingAccountId',\n",
      "       'billingAccountName', 'billingProfileId', 'billingProfileName',\n",
      "       'invoiceSectionId', 'invoiceSectionName', 'resellerName',\n",
      "       'resellerMpnId', 'costCenter', 'billingPeriodEndDate',\n",
      "       'billingPeriodStartDate', 'servicePeriodEndDate',\n",
      "       'servicePeriodStartDate', 'date', 'serviceFamily', 'productOrderId',\n",
      "       'productOrderName', 'consumedService', 'meterId', 'meterName',\n",
      "       'meterCategory', 'meterSubCategory', 'meterRegion', 'ProductId',\n",
      "       'ProductName', 'SubscriptionId', 'subscriptionName', 'publisherType',\n",
      "       'publisherId', 'publisherName', 'resourceGroupName', 'ResourceId',\n",
      "       'resourceLocation', 'location', 'effectivePrice', 'quantity',\n",
      "       'unitOfMeasure', 'chargeType', 'billingCurrency', 'pricingCurrency',\n",
      "       'costInBillingCurrency', 'costInPricingCurrency', 'costInUsd',\n",
      "       'paygCostInBillingCurrency', 'paygCostInUsd',\n",
      "       'exchangeRatePricingToBilling', 'exchangeRateDate',\n",
      "       'isAzureCreditEligible', 'serviceInfo1', 'serviceInfo2',\n",
      "       'additionalInfo', 'tags', 'PayGPrice', 'frequency', 'term',\n",
      "       'reservationId', 'reservationName', 'pricingModel', 'unitPrice',\n",
      "       'costAllocationRuleName', 'benefitId', 'benefitName', 'provider'],\n",
      "      dtype='object')\n"
     ]
    }
   ],
   "source": [
    "df = pd.read_parquet(sas_url)\n",
    "df_len, df_width = df.shape\n",
    "print('Rows: ' +str(df_len),'\\nColumns: ' + str(df_width))\n",
    "print(df.columns)"
   ]
  },
  {
   "cell_type": "code",
   "execution_count": null,
   "metadata": {},
   "outputs": [],
   "source": [
    "# clean az data\n",
    "df = df.replace(r'\\s+',np.nan,regex=True).replace('',np.nan)\n",
    "before = len(df.columns)\n",
    "# Drop all columns where all values is NaN\n",
    "df = df.dropna(axis=1,how='all')\n",
    "after = len(df.columns)\n",
    "removed = before-after\n",
    "print(\"Removed \"+ str(removed) + \" blank columns!\")"
   ]
  },
  {
   "cell_type": "code",
   "execution_count": null,
   "metadata": {},
   "outputs": [],
   "source": [
    "df.columns"
   ]
  },
  {
   "cell_type": "code",
   "execution_count": null,
   "metadata": {},
   "outputs": [],
   "source": [
    "for column in df:\n",
    "    x = df\n",
    "    x = x[column].drop_duplicates().dropna()\n",
    "    print(\"The column '\" + column + \"' has \" + str(x.shape[0]) + \" unique rows\")"
   ]
  },
  {
   "cell_type": "code",
   "execution_count": null,
   "metadata": {},
   "outputs": [],
   "source": [
    "subscription_colums = [\"SubscriptionId\",\"subscriptionName\", \"billingAccountId\", \"billingAccountName\", \"billingProfileId\", \"billingProfileName\"]\n",
    "\n",
    "subscription_dim = pd.DataFrame(df,columns=subscription_colums, copy=True)\n",
    "subscription_dim.index = subscription_dim[\"SubscriptionId\"]\n",
    "subscription_dim.drop_duplicates(\"SubscriptionId\", inplace=True)\n",
    "subscription_dim.columns\n"
   ]
  },
  {
   "cell_type": "code",
   "execution_count": null,
   "metadata": {},
   "outputs": [],
   "source": [
    "product_colums = [\"ProductId\",\"ProductName\", \"resourceLocation\", \"meterSubCategory\", \"meterCategory\"]\n",
    "\n",
    "product_dim = pd.DataFrame(df,columns=product_colums, copy=True)\n",
    "product_dim.index = product_dim[\"ProductId\"]\n",
    "product_dim.drop_duplicates(\"ProductId\", inplace=True)\n",
    "product_dim.columns"
   ]
  },
  {
   "cell_type": "code",
   "execution_count": null,
   "metadata": {},
   "outputs": [],
   "source": [
    "resource_dim = pd.DataFrame(df,columns=[\"ResourceId\"], copy=True)\n",
    "resource_dim = resource_dim['ResourceId'].str.split(\"/\", expand=True)\n",
    "resource_dim = resource_dim.loc[:, [2,4,6,8]]\n",
    "resource_dim.columns = ['SubscriptionId', 'resourceGroupName', 'consumedService', 'resourceName']\n",
    "resource_dim.index = resource_dim[\"resourceName\"]\n",
    "resource_dim.drop_duplicates(\"resourceName\", inplace=True)\n",
    "resource_dim.columns"
   ]
  },
  {
   "cell_type": "code",
   "execution_count": 44,
   "metadata": {},
   "outputs": [
    {
     "data": {
      "text/plain": [
       "Index(['ResourceId', 'tags'], dtype='object')"
      ]
     },
     "execution_count": 44,
     "metadata": {},
     "output_type": "execute_result"
    }
   ],
   "source": [
    "tags_colums = ['ResourceId', 'tags']\n",
    "\n",
    "tags_dim = pd.DataFrame(df,columns=tags_colums, copy=True)\n",
    "tags_dim.index = tags_dim['ResourceId']\n",
    "\n",
    "tags_dim.columns"
   ]
  },
  {
   "cell_type": "code",
   "execution_count": 71,
   "metadata": {},
   "outputs": [
    {
     "name": "stdout",
     "output_type": "stream",
     "text": [
      "115\n",
      "180 {  \"application\": \"databricks\",  \"databricks-environment\": \"true\",  \"environment\": \"dev\",  \"location\": \"norway\",  \"datalayer\": \"raw\",  \"datatier\": \"bronze\",  \"sensitivity\": \"none\"}\n"
     ]
    }
   ],
   "source": [
    "def find_longest():\n",
    "    longest = len(tags_dim['tags'][0])\n",
    "    for elem in tags_dim['tags']:\n",
    "        if elem is None:\n",
    "            continue\n",
    "        \n",
    "        next = len(elem)\n",
    "        if  next <= longest:\n",
    "            continue\n",
    "        \n",
    "        else:\n",
    "            longest = next\n",
    "            longest_element = elem\n",
    "    return longest_element\n",
    "    \n",
    "longest_tag = find_longest()\n",
    "print(len(longest_tag), longest_tag)"
   ]
  },
  {
   "cell_type": "code",
   "execution_count": null,
   "metadata": {},
   "outputs": [],
   "source": [
    "usage_colums = [\"quantity\", \"effectivePrice\", \"paygCostInBillingCurrency\", \"date\", \"ProductId\", \"SubscriptionId\"]\n",
    "\n",
    "usage_fact = pd.DataFrame(df,columns=usage_colums, copy=True)\n",
    "usage_fact.index = usage_fact[\"ProductId\"]\n",
    "usage_fact = usage_fact[usage_fact['effectivePrice'] != 0]\n",
    "usage_fact.columns"
   ]
  }
 ],
 "metadata": {
  "kernelspec": {
   "display_name": "Python 3.8.10 64-bit",
   "language": "python",
   "name": "python3"
  },
  "language_info": {
   "codemirror_mode": {
    "name": "ipython",
    "version": 3
   },
   "file_extension": ".py",
   "mimetype": "text/x-python",
   "name": "python",
   "nbconvert_exporter": "python",
   "pygments_lexer": "ipython3",
   "version": "3.8.10"
  },
  "orig_nbformat": 4,
  "vscode": {
   "interpreter": {
    "hash": "916dbcbb3f70747c44a77c7bcd40155683ae19c65e1c03b4aa3499c5328201f1"
   }
  }
 },
 "nbformat": 4,
 "nbformat_minor": 2
}
