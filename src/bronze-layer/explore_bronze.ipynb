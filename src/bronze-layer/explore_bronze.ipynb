{
 "cells": [
  {
   "cell_type": "markdown",
   "metadata": {},
   "source": [
    "# Exploring the billing datasets\n",
    "\n",
    "```Do not run in poetry shell```\n",
    "\n",
    "NOT TESTED AFTER REMAKE OF BRONZE"
   ]
  },
  {
   "cell_type": "code",
   "execution_count": 9,
   "metadata": {},
   "outputs": [],
   "source": [
    "# Imports\n",
    "import os\n",
    "from matplotlib import pyplot as plt\n",
    "import seaborn as sns\n",
    "import numpy as np\n",
    "import pandas as pd"
   ]
  },
  {
   "cell_type": "code",
   "execution_count": 10,
   "metadata": {},
   "outputs": [],
   "source": [
    "# Set variables\n",
    "CONNECTION_STRING = os.environ.get(\"STORAGE_CONNECTION_STRING\")\n",
    "CONTAINERNAME = os.environ.get(\"STORAGE_CONTAINER_NAME_1\")\n",
    "BLOBNAME = os.environ.get(\"STORAGE_BLOB_NAME\")"
   ]
  },
  {
   "cell_type": "code",
   "execution_count": 11,
   "metadata": {},
   "outputs": [],
   "source": [
    "def create_sas():\n",
    "    CONTAINERNAME = os.environ.get(\"STORAGE_CONTAINER_NAME_1\")\n",
    "    BLOBNAME = os.environ.get(\"STORAGE_BLOB_NAME\")\n",
    "    ACCOUNTNAME = os.environ.get(\"STORAGE_ACCOUNT_NAME\")\n",
    "    QUERYSTRING = os.environ.get(\"BLOB_QUERY_STRING\")\n",
    "    \n",
    "    sas_url = f\"https://{ACCOUNTNAME}.blob.core.windows.net/{CONTAINERNAME}/cloudlink/azure/{BLOBNAME}{QUERYSTRING}\"\n",
    "    return sas_url\n",
    " \n",
    "    \n",
    "sas_url = create_sas()"
   ]
  },
  {
   "cell_type": "code",
   "execution_count": 12,
   "metadata": {},
   "outputs": [
    {
     "name": "stdout",
     "output_type": "stream",
     "text": [
      "Rows: 1755 \n",
      "Columns: 65\n"
     ]
    }
   ],
   "source": [
    "df = pd.read_parquet(sas_url)\n",
    "df_len, df_width = df.shape\n",
    "print('Rows: ' +str(df_len),'\\nColumns: ' + str(df_width))"
   ]
  },
  {
   "cell_type": "code",
   "execution_count": 13,
   "metadata": {},
   "outputs": [
    {
     "name": "stdout",
     "output_type": "stream",
     "text": [
      "Removed 23 blank columns!\n"
     ]
    }
   ],
   "source": [
    "# clean az data\n",
    "df = df.replace(r'\\s+',np.nan,regex=True).replace('',np.nan)\n",
    "before = len(df.columns)\n",
    "# Drop all columns where all values is NaN\n",
    "df = df.dropna(axis=1,how='all')\n",
    "after = len(df.columns)\n",
    "removed = before-after\n",
    "print(\"Removed \"+ str(removed) + \" blank columns!\")"
   ]
  },
  {
   "cell_type": "code",
   "execution_count": 14,
   "metadata": {},
   "outputs": [
    {
     "data": {
      "text/plain": [
       "Index(['invoiceId', 'billingAccountId', 'billingProfileId', 'invoiceSectionId',\n",
       "       'servicePeriodEndDate', 'servicePeriodStartDate', 'date',\n",
       "       'serviceFamily', 'productOrderId', 'consumedService', 'meterId',\n",
       "       'meterCategory', 'meterSubCategory', 'meterRegion', 'ProductId',\n",
       "       'SubscriptionId', 'subscriptionName', 'publisherType', 'publisherName',\n",
       "       'resourceGroupName', 'ResourceId', 'resourceLocation', 'location',\n",
       "       'effectivePrice', 'quantity', 'unitOfMeasure', 'chargeType',\n",
       "       'billingCurrency', 'pricingCurrency', 'costInBillingCurrency',\n",
       "       'costInPricingCurrency', 'costInUsd', 'paygCostInBillingCurrency',\n",
       "       'paygCostInUsd', 'exchangeRatePricingToBilling', 'exchangeRateDate',\n",
       "       'isAzureCreditEligible', 'PayGPrice', 'frequency', 'pricingModel',\n",
       "       'unitPrice', 'provider'],\n",
       "      dtype='object')"
      ]
     },
     "execution_count": 14,
     "metadata": {},
     "output_type": "execute_result"
    }
   ],
   "source": [
    "df.columns"
   ]
  },
  {
   "cell_type": "code",
   "execution_count": 15,
   "metadata": {},
   "outputs": [
    {
     "name": "stdout",
     "output_type": "stream",
     "text": [
      "The column 'invoiceId' has 1 unique rows\n",
      "The column 'billingAccountId' has 1 unique rows\n",
      "The column 'billingProfileId' has 2 unique rows\n",
      "The column 'invoiceSectionId' has 2 unique rows\n",
      "The column 'servicePeriodEndDate' has 1 unique rows\n",
      "The column 'servicePeriodStartDate' has 1 unique rows\n",
      "The column 'date' has 15 unique rows\n",
      "The column 'serviceFamily' has 4 unique rows\n",
      "The column 'productOrderId' has 2 unique rows\n",
      "The column 'consumedService' has 6 unique rows\n",
      "The column 'meterId' has 25 unique rows\n",
      "The column 'meterCategory' has 2 unique rows\n",
      "The column 'meterSubCategory' has 1 unique rows\n",
      "The column 'meterRegion' has 2 unique rows\n",
      "The column 'ProductId' has 16 unique rows\n",
      "The column 'SubscriptionId' has 2 unique rows\n",
      "The column 'subscriptionName' has 2 unique rows\n",
      "The column 'publisherType' has 1 unique rows\n",
      "The column 'publisherName' has 1 unique rows\n",
      "The column 'resourceGroupName' has 14 unique rows\n",
      "The column 'ResourceId' has 26 unique rows\n",
      "The column 'resourceLocation' has 3 unique rows\n",
      "The column 'location' has 2 unique rows\n",
      "The column 'effectivePrice' has 13 unique rows\n",
      "The column 'quantity' has 143 unique rows\n",
      "The column 'unitOfMeasure' has 5 unique rows\n",
      "The column 'chargeType' has 1 unique rows\n",
      "The column 'billingCurrency' has 1 unique rows\n",
      "The column 'pricingCurrency' has 1 unique rows\n",
      "The column 'costInBillingCurrency' has 84 unique rows\n",
      "The column 'costInPricingCurrency' has 80 unique rows\n",
      "The column 'costInUsd' has 80 unique rows\n",
      "The column 'paygCostInBillingCurrency' has 185 unique rows\n",
      "The column 'paygCostInUsd' has 184 unique rows\n",
      "The column 'exchangeRatePricingToBilling' has 1 unique rows\n",
      "The column 'exchangeRateDate' has 1 unique rows\n",
      "The column 'isAzureCreditEligible' has 1 unique rows\n",
      "The column 'PayGPrice' has 21 unique rows\n",
      "The column 'frequency' has 1 unique rows\n",
      "The column 'pricingModel' has 1 unique rows\n",
      "The column 'unitPrice' has 18 unique rows\n",
      "The column 'provider' has 1 unique rows\n"
     ]
    }
   ],
   "source": [
    "for column in df:\n",
    "    x = df\n",
    "    x = x[column].drop_duplicates().dropna()\n",
    "    print(\"The column '\" + column + \"' has \" + str(x.shape[0]) + \" unique rows\")"
   ]
  },
  {
   "cell_type": "code",
   "execution_count": 23,
   "metadata": {},
   "outputs": [
    {
     "data": {
      "text/plain": [
       "Index(['subscriptionName', 'SubscriptionId', 'billingAccountId',\n",
       "       'billingAccountName', 'billingProfileId', 'billingProfileName'],\n",
       "      dtype='object')"
      ]
     },
     "execution_count": 23,
     "metadata": {},
     "output_type": "execute_result"
    }
   ],
   "source": [
    "subscription_colums = [\"SubscriptionId\",\"subscriptionName\", \"billingAccountId\", \"billingAccountName\", \"billingProfileId\", \"billingProfileName\"]\n",
    "\n",
    "subscription_dim = pd.DataFrame(df,columns=subscription_colums, copy=True)\n",
    "subscription_dim.index = subscription_dim[\"SubscriptionId\"]\n",
    "subscription_dim.drop_duplicates(\"SubscriptionId\", inplace=True)\n",
    "subscription_dim.columns\n"
   ]
  },
  {
   "cell_type": "code",
   "execution_count": 24,
   "metadata": {},
   "outputs": [
    {
     "data": {
      "text/plain": [
       "Index(['ProductId', 'ProductName', 'resourceLocation', 'meterSubCategory',\n",
       "       'consumedService'],\n",
       "      dtype='object')"
      ]
     },
     "execution_count": 24,
     "metadata": {},
     "output_type": "execute_result"
    }
   ],
   "source": [
    "product_colums = [\"ProductId\",\"ProductName\", \"resourceLocation\", \"meterSubCategory\", \"consumedService\"]\n",
    "\n",
    "product_dim = pd.DataFrame(df,columns=product_colums, copy=True)\n",
    "product_dim.index = product_dim[\"ProductId\"]\n",
    "product_dim.drop_duplicates(\"ProductId\", inplace=True)\n",
    "product_dim.columns"
   ]
  },
  {
   "cell_type": "code",
   "execution_count": 26,
   "metadata": {},
   "outputs": [
    {
     "data": {
      "text/plain": [
       "Index(['quantity', 'effectivePrice', 'paygCostInBillingCurrency', 'date',\n",
       "       'ProductId', 'SubscriptionId'],\n",
       "      dtype='object')"
      ]
     },
     "execution_count": 26,
     "metadata": {},
     "output_type": "execute_result"
    }
   ],
   "source": [
    "usage_colums = [\"quantity\", \"effectivePrice\", \"paygCostInBillingCurrency\", \"date\", \"ProductId\", \"SubscriptionId\"]\n",
    "\n",
    "usage_fact = pd.DataFrame(df,columns=usage_colums, copy=True)\n",
    "usage_fact.index = usage_fact[\"ProductId\"]\n",
    "usage_fact = usage_fact[usage_fact['effectivePrice'] != 0]\n",
    "usage_fact.columns"
   ]
  }
 ],
 "metadata": {
  "kernelspec": {
   "display_name": "Python 3.8.10 64-bit",
   "language": "python",
   "name": "python3"
  },
  "language_info": {
   "codemirror_mode": {
    "name": "ipython",
    "version": 3
   },
   "file_extension": ".py",
   "mimetype": "text/x-python",
   "name": "python",
   "nbconvert_exporter": "python",
   "pygments_lexer": "ipython3",
   "version": "3.8.10"
  },
  "orig_nbformat": 4,
  "vscode": {
   "interpreter": {
    "hash": "916dbcbb3f70747c44a77c7bcd40155683ae19c65e1c03b4aa3499c5328201f1"
   }
  }
 },
 "nbformat": 4,
 "nbformat_minor": 2
}
