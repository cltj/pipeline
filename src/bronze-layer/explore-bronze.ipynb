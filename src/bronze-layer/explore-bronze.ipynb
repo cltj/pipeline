{
 "cells": [
  {
   "cell_type": "markdown",
   "metadata": {},
   "source": [
    "# Exploring the billing datasets\n",
    "\n",
    "```Do not run in poetry shell```"
   ]
  },
  {
   "cell_type": "code",
   "execution_count": 1,
   "metadata": {},
   "outputs": [
    {
     "name": "stderr",
     "output_type": "stream",
     "text": [
      "/home/tj/.cache/pypoetry/virtualenvs/pipeline-MexhjMpT-py3.8/lib/python3.8/site-packages/tqdm/auto.py:22: TqdmWarning: IProgress not found. Please update jupyter and ipywidgets. See https://ipywidgets.readthedocs.io/en/stable/user_install.html\n",
      "  from .autonotebook import tqdm as notebook_tqdm\n"
     ]
    }
   ],
   "source": [
    "# Imports\n",
    "import os, sys\n",
    "sys.path.insert(0,'/mnt/c/dev/cl/pipeline')\n",
    "from azure.storage.blob import BlobServiceClient\n",
    "from azure.storage.blob import BlobClient\n",
    "from io import StringIO\n",
    "from src.config import My_Config as cfg\n",
    "from matplotlib import pyplot as plt\n",
    "from pandas_profiling import ProfileReport\n",
    "import seaborn as sns\n",
    "import pandas as pd\n",
    "import numpy as np"
   ]
  },
  {
   "cell_type": "code",
   "execution_count": 2,
   "metadata": {},
   "outputs": [],
   "source": [
    "# Set variables\n",
    "CONNECTION_STRING = cfg.storage_connection_string()\n",
    "CONTAINERNAME = cfg.storage_container_name_1()\n",
    "BLOBNAME = cfg.storage_blob_name()"
   ]
  },
  {
   "cell_type": "code",
   "execution_count": 3,
   "metadata": {},
   "outputs": [
    {
     "name": "stdout",
     "output_type": "stream",
     "text": [
      "AWS-Billing-Data.parquet\n",
      "\n",
      "Azure-Billing-Data.parquet\n",
      "\n",
      "GCP-Billing-Data.parquet\n",
      "\n"
     ]
    },
    {
     "data": {
      "text/plain": [
       "<iterator object azure.core.paging.ItemPaged at 0x7f631dfdd490>"
      ]
     },
     "execution_count": 3,
     "metadata": {},
     "output_type": "execute_result"
    }
   ],
   "source": [
    "# List files from blob storage\n",
    "def list_blobs_in_container():\n",
    "    from azure.storage.blob import BlobServiceClient\n",
    "    blob_service_client = BlobServiceClient.from_connection_string(CONNECTION_STRING)\n",
    "    container_client = blob_service_client.get_container_client(CONTAINERNAME)\n",
    "    blobs_list = container_client.list_blobs()\n",
    "    for blob in blobs_list:\n",
    "        print(blob.name + '\\n')\n",
    "    return blobs_list\n",
    "\n",
    "list_blobs_in_container()"
   ]
  },
  {
   "cell_type": "code",
   "execution_count": 4,
   "metadata": {},
   "outputs": [],
   "source": [
    "def create_sas():\n",
    "    CONTAINERNAME = cfg.storage_container_name_1()\n",
    "    BLOBNAME = cfg.storage_blob_name()\n",
    "    ACCOUNTNAME = cfg.storage_account_name()\n",
    "    QUERYSTRING = cfg.blob_query_string()\n",
    "    \n",
    "    sas_url = f\"https://{ACCOUNTNAME}.blob.core.windows.net/{CONTAINERNAME}/{BLOBNAME}{QUERYSTRING}\"\n",
    "    return sas_url\n",
    " \n",
    "    \n",
    "sas_url = create_sas()"
   ]
  },
  {
   "cell_type": "code",
   "execution_count": 5,
   "metadata": {},
   "outputs": [
    {
     "name": "stdout",
     "output_type": "stream",
     "text": [
      "Rows: 626 \n",
      "Columns: 18\n"
     ]
    }
   ],
   "source": [
    "df = pd.read_parquet(sas_url)\n",
    "df_len, df_width = df.shape\n",
    "print('Rows: ' +str(df_len),'\\nColumns: ' + str(df_width))"
   ]
  },
  {
   "cell_type": "code",
   "execution_count": 6,
   "metadata": {},
   "outputs": [
    {
     "name": "stdout",
     "output_type": "stream",
     "text": [
      "The column 'billing_account_id' has 1 unique rows\n",
      "The column 'service' has 3 unique rows\n",
      "The column 'sku' has 7 unique rows\n",
      "The column 'usage_start_time' has 308 unique rows\n",
      "The column 'usage_end_time' has 308 unique rows\n",
      "The column 'project' has 626 unique rows\n",
      "The column 'labels' has 331 unique rows\n",
      "The column 'system_labels' has 626 unique rows\n",
      "The column 'location' has 3 unique rows\n",
      "The column 'export_time' has 110 unique rows\n",
      "The column 'cost' has 1 unique rows\n",
      "The column 'currency' has 1 unique rows\n",
      "The column 'currency_conversion_rate' has 1 unique rows\n",
      "The column 'usage' has 298 unique rows\n",
      "The column 'credits' has 626 unique rows\n",
      "The column 'invoice' has 1 unique rows\n",
      "The column 'cost_type' has 1 unique rows\n",
      "The column 'adjustment_info' has 0 unique rows\n"
     ]
    }
   ],
   "source": [
    "for column in df:\n",
    "    x = df\n",
    "    x = x[column].drop_duplicates().dropna()\n",
    "    print(\"The column '\" + column + \"' has \" + str(x.shape[0]) + \" unique rows\")"
   ]
  },
  {
   "cell_type": "code",
   "execution_count": 7,
   "metadata": {},
   "outputs": [
    {
     "data": {
      "text/html": [
       "<div>\n",
       "<style scoped>\n",
       "    .dataframe tbody tr th:only-of-type {\n",
       "        vertical-align: middle;\n",
       "    }\n",
       "\n",
       "    .dataframe tbody tr th {\n",
       "        vertical-align: top;\n",
       "    }\n",
       "\n",
       "    .dataframe thead th {\n",
       "        text-align: right;\n",
       "    }\n",
       "</style>\n",
       "<table border=\"1\" class=\"dataframe\">\n",
       "  <thead>\n",
       "    <tr style=\"text-align: right;\">\n",
       "      <th></th>\n",
       "      <th>cost</th>\n",
       "      <th>currency_conversion_rate</th>\n",
       "    </tr>\n",
       "  </thead>\n",
       "  <tbody>\n",
       "    <tr>\n",
       "      <th>count</th>\n",
       "      <td>626.0</td>\n",
       "      <td>626.0000</td>\n",
       "    </tr>\n",
       "    <tr>\n",
       "      <th>mean</th>\n",
       "      <td>0.0</td>\n",
       "      <td>9.8245</td>\n",
       "    </tr>\n",
       "    <tr>\n",
       "      <th>std</th>\n",
       "      <td>0.0</td>\n",
       "      <td>0.0000</td>\n",
       "    </tr>\n",
       "    <tr>\n",
       "      <th>min</th>\n",
       "      <td>0.0</td>\n",
       "      <td>9.8245</td>\n",
       "    </tr>\n",
       "    <tr>\n",
       "      <th>25%</th>\n",
       "      <td>0.0</td>\n",
       "      <td>9.8245</td>\n",
       "    </tr>\n",
       "    <tr>\n",
       "      <th>50%</th>\n",
       "      <td>0.0</td>\n",
       "      <td>9.8245</td>\n",
       "    </tr>\n",
       "    <tr>\n",
       "      <th>75%</th>\n",
       "      <td>0.0</td>\n",
       "      <td>9.8245</td>\n",
       "    </tr>\n",
       "    <tr>\n",
       "      <th>max</th>\n",
       "      <td>0.0</td>\n",
       "      <td>9.8245</td>\n",
       "    </tr>\n",
       "  </tbody>\n",
       "</table>\n",
       "</div>"
      ],
      "text/plain": [
       "        cost  currency_conversion_rate\n",
       "count  626.0                  626.0000\n",
       "mean     0.0                    9.8245\n",
       "std      0.0                    0.0000\n",
       "min      0.0                    9.8245\n",
       "25%      0.0                    9.8245\n",
       "50%      0.0                    9.8245\n",
       "75%      0.0                    9.8245\n",
       "max      0.0                    9.8245"
      ]
     },
     "execution_count": 7,
     "metadata": {},
     "output_type": "execute_result"
    }
   ],
   "source": [
    "df.describe()"
   ]
  },
  {
   "cell_type": "code",
   "execution_count": 8,
   "metadata": {},
   "outputs": [
    {
     "name": "stderr",
     "output_type": "stream",
     "text": [
      "Summarize dataset: 100%|██████████| 32/32 [00:02<00:00, 10.79it/s, Completed]                                 \n",
      "Generate report structure: 100%|██████████| 1/1 [00:01<00:00,  1.32s/it]\n",
      "Render HTML: 100%|██████████| 1/1 [00:00<00:00,  2.03it/s]\n",
      "Export report to file:   0%|          | 0/1 [00:00<?, ?it/s]\n"
     ]
    },
    {
     "ename": "FileNotFoundError",
     "evalue": "[Errno 2] No such file or directory: '/mnt/c/dev/cl/pipeline/local/reports/GCP-Billing-Report.html'",
     "output_type": "error",
     "traceback": [
      "\u001b[0;31m---------------------------------------------------------------------------\u001b[0m",
      "\u001b[0;31mFileNotFoundError\u001b[0m                         Traceback (most recent call last)",
      "Cell \u001b[0;32mIn [8], line 3\u001b[0m\n\u001b[1;32m      1\u001b[0m LOCAL_FILE_PATH \u001b[38;5;241m=\u001b[39m cfg\u001b[38;5;241m.\u001b[39mlocal_files_path()\n\u001b[1;32m      2\u001b[0m profile \u001b[38;5;241m=\u001b[39m ProfileReport(df, title\u001b[38;5;241m=\u001b[39m\u001b[38;5;124m\"\u001b[39m\u001b[38;5;124mGCP Billing Report\u001b[39m\u001b[38;5;124m\"\u001b[39m)\n\u001b[0;32m----> 3\u001b[0m profile\u001b[38;5;241m.\u001b[39mto_file(LOCAL_FILE_PATH \u001b[38;5;241m+\u001b[39m \u001b[38;5;124m\"\u001b[39m\u001b[38;5;124mreports/GCP-Billing-Report.html\u001b[39m\u001b[38;5;124m\"\u001b[39m)\n",
      "File \u001b[0;32m~/.cache/pypoetry/virtualenvs/pipeline-MexhjMpT-py3.8/lib/python3.8/site-packages/pandas_profiling/profile_report.py:291\u001b[0m, in \u001b[0;36mProfileReport.to_file\u001b[0;34m(self, output_file, silent)\u001b[0m\n\u001b[1;32m    287\u001b[0m disable_progress_bar \u001b[39m=\u001b[39m \u001b[39mnot\u001b[39;00m \u001b[39mself\u001b[39m\u001b[39m.\u001b[39mconfig\u001b[39m.\u001b[39mprogress_bar\n\u001b[1;32m    288\u001b[0m \u001b[39mwith\u001b[39;00m tqdm(\n\u001b[1;32m    289\u001b[0m     total\u001b[39m=\u001b[39m\u001b[39m1\u001b[39m, desc\u001b[39m=\u001b[39m\u001b[39m\"\u001b[39m\u001b[39mExport report to file\u001b[39m\u001b[39m\"\u001b[39m, disable\u001b[39m=\u001b[39mdisable_progress_bar\n\u001b[1;32m    290\u001b[0m ) \u001b[39mas\u001b[39;00m pbar:\n\u001b[0;32m--> 291\u001b[0m     output_file\u001b[39m.\u001b[39;49mwrite_text(data, encoding\u001b[39m=\u001b[39;49m\u001b[39m\"\u001b[39;49m\u001b[39mutf-8\u001b[39;49m\u001b[39m\"\u001b[39;49m)\n\u001b[1;32m    292\u001b[0m     pbar\u001b[39m.\u001b[39mupdate()\n\u001b[1;32m    294\u001b[0m \u001b[39mif\u001b[39;00m \u001b[39mnot\u001b[39;00m silent:\n",
      "File \u001b[0;32m/usr/lib/python3.8/pathlib.py:1255\u001b[0m, in \u001b[0;36mPath.write_text\u001b[0;34m(self, data, encoding, errors)\u001b[0m\n\u001b[1;32m   1252\u001b[0m \u001b[39mif\u001b[39;00m \u001b[39mnot\u001b[39;00m \u001b[39misinstance\u001b[39m(data, \u001b[39mstr\u001b[39m):\n\u001b[1;32m   1253\u001b[0m     \u001b[39mraise\u001b[39;00m \u001b[39mTypeError\u001b[39;00m(\u001b[39m'\u001b[39m\u001b[39mdata must be str, not \u001b[39m\u001b[39m%s\u001b[39;00m\u001b[39m'\u001b[39m \u001b[39m%\u001b[39m\n\u001b[1;32m   1254\u001b[0m                     data\u001b[39m.\u001b[39m\u001b[39m__class__\u001b[39m\u001b[39m.\u001b[39m\u001b[39m__name__\u001b[39m)\n\u001b[0;32m-> 1255\u001b[0m \u001b[39mwith\u001b[39;00m \u001b[39mself\u001b[39;49m\u001b[39m.\u001b[39;49mopen(mode\u001b[39m=\u001b[39;49m\u001b[39m'\u001b[39;49m\u001b[39mw\u001b[39;49m\u001b[39m'\u001b[39;49m, encoding\u001b[39m=\u001b[39;49mencoding, errors\u001b[39m=\u001b[39;49merrors) \u001b[39mas\u001b[39;00m f:\n\u001b[1;32m   1256\u001b[0m     \u001b[39mreturn\u001b[39;00m f\u001b[39m.\u001b[39mwrite(data)\n",
      "File \u001b[0;32m/usr/lib/python3.8/pathlib.py:1222\u001b[0m, in \u001b[0;36mPath.open\u001b[0;34m(self, mode, buffering, encoding, errors, newline)\u001b[0m\n\u001b[1;32m   1220\u001b[0m \u001b[39mif\u001b[39;00m \u001b[39mself\u001b[39m\u001b[39m.\u001b[39m_closed:\n\u001b[1;32m   1221\u001b[0m     \u001b[39mself\u001b[39m\u001b[39m.\u001b[39m_raise_closed()\n\u001b[0;32m-> 1222\u001b[0m \u001b[39mreturn\u001b[39;00m io\u001b[39m.\u001b[39;49mopen(\u001b[39mself\u001b[39;49m, mode, buffering, encoding, errors, newline,\n\u001b[1;32m   1223\u001b[0m                opener\u001b[39m=\u001b[39;49m\u001b[39mself\u001b[39;49m\u001b[39m.\u001b[39;49m_opener)\n",
      "File \u001b[0;32m/usr/lib/python3.8/pathlib.py:1078\u001b[0m, in \u001b[0;36mPath._opener\u001b[0;34m(self, name, flags, mode)\u001b[0m\n\u001b[1;32m   1076\u001b[0m \u001b[39mdef\u001b[39;00m \u001b[39m_opener\u001b[39m(\u001b[39mself\u001b[39m, name, flags, mode\u001b[39m=\u001b[39m\u001b[39m0o666\u001b[39m):\n\u001b[1;32m   1077\u001b[0m     \u001b[39m# A stub for the opener argument to built-in open()\u001b[39;00m\n\u001b[0;32m-> 1078\u001b[0m     \u001b[39mreturn\u001b[39;00m \u001b[39mself\u001b[39;49m\u001b[39m.\u001b[39;49m_accessor\u001b[39m.\u001b[39;49mopen(\u001b[39mself\u001b[39;49m, flags, mode)\n",
      "\u001b[0;31mFileNotFoundError\u001b[0m: [Errno 2] No such file or directory: '/mnt/c/dev/cl/pipeline/local/reports/GCP-Billing-Report.html'"
     ]
    }
   ],
   "source": [
    "LOCAL_FILE_PATH = cfg.local_files_path()\n",
    "profile = ProfileReport(df, title=\"GCP Billing Report\")\n",
    "profile.to_file(LOCAL_FILE_PATH + \"reports/GCP-Billing-Report.html\")"
   ]
  }
 ],
 "metadata": {
  "kernelspec": {
   "display_name": "Python 3.8.10 ('pipeline-MexhjMpT-py3.8')",
   "language": "python",
   "name": "python3"
  },
  "language_info": {
   "codemirror_mode": {
    "name": "ipython",
    "version": 3
   },
   "file_extension": ".py",
   "mimetype": "text/x-python",
   "name": "python",
   "nbconvert_exporter": "python",
   "pygments_lexer": "ipython3",
   "version": "3.8.10"
  },
  "orig_nbformat": 4,
  "vscode": {
   "interpreter": {
    "hash": "935322b8562f2d6b1b1056f86c7d1cb9d229c17eec0adaa173774f0a03fe6c99"
   }
  }
 },
 "nbformat": 4,
 "nbformat_minor": 2
}
